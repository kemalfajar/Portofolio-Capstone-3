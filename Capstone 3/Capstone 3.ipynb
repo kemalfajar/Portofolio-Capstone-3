{
 "cells": [
  {
   "cell_type": "code",
   "execution_count": null,
   "id": "cc6bf707-b5cf-40fa-91de-97755f6f3f2c",
   "metadata": {},
   "outputs": [],
   "source": [
    "Di dunia ritel yang kompetitif, memahami perilaku pelanggan menjadi kunci untuk mempertahankan loyalitas dan meningkatkan penjualan. \n",
    "    Dengan semakin kompleksnya perilaku konsumen, pendekatan konvensional tidak lagi cukup. Oleh karena itu, segmentasi pelanggan berbasis data seperti LRFM (Length, Recency, Frequency, Monetary) menjadi strategi yang sangat relevan. Dalam proyek ini, saya menganalisis data pelanggan sebuah supermarket untuk memahami pola belanja mereka dan mengevaluasi efektivitas kampanye promosi."
   ]
  }
 ],
 "metadata": {
  "kernelspec": {
   "display_name": "Python 3 (ipykernel)",
   "language": "python",
   "name": "python3"
  },
  "language_info": {
   "codemirror_mode": {
    "name": "ipython",
    "version": 3
   },
   "file_extension": ".py",
   "mimetype": "text/x-python",
   "name": "python",
   "nbconvert_exporter": "python",
   "pygments_lexer": "ipython3",
   "version": "3.9.6"
  }
 },
 "nbformat": 4,
 "nbformat_minor": 5
}
